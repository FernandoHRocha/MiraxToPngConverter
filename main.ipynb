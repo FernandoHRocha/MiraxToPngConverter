{
 "cells": [
  {
   "cell_type": "code",
   "execution_count": 3,
   "metadata": {},
   "outputs": [],
   "source": [
    "from openslide import open_slide\n",
    "import openslide\n",
    "from PIL import Image\n",
    "import numpy as np\n",
    "from matplotlib import pyplot as plt"
   ]
  },
  {
   "cell_type": "markdown",
   "metadata": {},
   "source": [
    "Necessário conter pasta de arquivos adicionais."
   ]
  },
  {
   "cell_type": "code",
   "execution_count": 4,
   "metadata": {},
   "outputs": [],
   "source": [
    "slide = open_slide(\"./PNE 1-3.mrxs\")\n",
    "slide_props = slide.properties"
   ]
  },
  {
   "cell_type": "markdown",
   "metadata": {},
   "source": [
    "As propriedades da imagem são encontradas em properties."
   ]
  },
  {
   "cell_type": "code",
   "execution_count": 5,
   "metadata": {},
   "outputs": [
    {
     "name": "stdout",
     "output_type": "stream",
     "text": [
      "Vendor is: mirax\n",
      "Pixel size of X in um is: 0.22108910891089101\n",
      "Pixel size of Y in um is: 0.221447368421053\n"
     ]
    }
   ],
   "source": [
    "slide_props = slide.properties\n",
    "#print(slide_props)\n",
    "\n",
    "print(\"Vendor is:\", slide_props['openslide.vendor'])\n",
    "print(\"Pixel size of X in um is:\", slide_props['openslide.mpp-x'])\n",
    "print(\"Pixel size of Y in um is:\", slide_props['openslide.mpp-y'])"
   ]
  },
  {
   "cell_type": "markdown",
   "metadata": {},
   "source": [
    "Obtem um arquivo thumbnail da imagem com resolução máxima indicada."
   ]
  },
  {
   "cell_type": "code",
   "execution_count": 6,
   "metadata": {},
   "outputs": [],
   "source": [
    "slide_thumb_600 = slide.get_thumbnail(size=(600,600))\n",
    "slide_thumb_600.show()"
   ]
  },
  {
   "cell_type": "markdown",
   "metadata": {},
   "source": [
    "Transforma a imagem em um gráfico matplot."
   ]
  },
  {
   "cell_type": "code",
   "execution_count": 7,
   "metadata": {},
   "outputs": [
    {
     "data": {
      "text/plain": [
       "<matplotlib.image.AxesImage at 0x292c1e71cf8>"
      ]
     },
     "execution_count": 7,
     "metadata": {},
     "output_type": "execute_result"
    },
    {
     "data": {
      "image/png": "[encoded data removed]",
      "text/plain": [
       "<Figure size 576x576 with 1 Axes>"
      ]
     },
     "metadata": {
      "needs_background": "light"
     },
     "output_type": "display_data"
    }
   ],
   "source": [
    "slide_thumb_600_np = np.array(slide_thumb_600)\n",
    "plt.figure(figsize=(8,8))\n",
    "plt.imshow(slide_thumb_600_np)   "
   ]
  },
  {
   "cell_type": "markdown",
   "metadata": {},
   "source": [
    "Resoluções encontradas."
   ]
  },
  {
   "cell_type": "code",
   "execution_count": 8,
   "metadata": {},
   "outputs": [
    {
     "name": "stdout",
     "output_type": "stream",
     "text": [
      "Resoluções encontradas na imagen e suas reduções:  ((109252, 231112), (54626, 115556), (27313, 57778), (13656, 28889), (6828, 14444), (3414, 7222), (1707, 3611), (853, 1805), (426, 902), (213, 451))\n",
      "Niveis de redução na imagem:  10\n",
      "Fatores de redução de escala:  (1.0, 2.0, 4.0, 8.0, 16.0, 32.0, 64.0, 128.0, 256.0, 512.0)\n"
     ]
    }
   ],
   "source": [
    "dimensions = slide.level_dimensions\n",
    "print(\"Resoluções encontradas na imagen e suas reduções: \", dimensions)\n",
    "n_levels = len(dimensions)\n",
    "print(\"Niveis de redução na imagem: \", n_levels)\n",
    "factors = slide.level_downsamples\n",
    "print(\"Fatores de redução de escala: \", factors)"
   ]
  },
  {
   "cell_type": "markdown",
   "metadata": {},
   "source": [
    "Obtem a imagem reduzida em 6 vezes da nativa e coverte ela em uma imagem RGB."
   ]
  },
  {
   "cell_type": "code",
   "execution_count": 9,
   "metadata": {},
   "outputs": [],
   "source": [
    "level6_dimension = dimensions[6]\n",
    "level6_img = slide.read_region((0,0), 6, level6_dimension)\n",
    "img6 = level6_img.convert('RGB')\n",
    "img6.show()"
   ]
  },
  {
   "cell_type": "code",
   "execution_count": 10,
   "metadata": {},
   "outputs": [
    {
     "name": "stdout",
     "output_type": "stream",
     "text": [
      "Número de níveis que o slide pode ter com as configurações aplicadas acima:  19\n",
      "Quantas imagens cada níveis terá:  ((1, 1), (1, 2), (2, 4), (4, 8), (7, 15), (14, 29), (27, 57), (54, 113), (107, 226), (214, 452), (427, 903), (854, 1806), (1708, 3612), (3415, 7223), (6829, 14445), (13657, 28889), (27313, 57778), (54626, 115556), (109252, 231112))\n",
      "Número total de imagens geradas:  514694\n"
     ]
    }
   ],
   "source": [
    "from openslide.deepzoom import DeepZoomGenerator\n",
    "tiles = DeepZoomGenerator(slide, tile_size=256, overlap=0, limit_bounds=False)\n",
    "print(\"Número de níveis que o slide pode ter com as configurações aplicadas acima: \", tiles.level_count)\n",
    "print(\"Quantas imagens cada níveis terá: \", tiles.level_dimensions)\n",
    "print(\"Número total de imagens geradas: \", tiles.tile_count)\n"
   ]
  },
  {
   "cell_type": "code",
   "execution_count": 30,
   "metadata": {},
   "outputs": [
    {
     "name": "stdout",
     "output_type": "stream",
     "text": [
      "O nível  11  possui imagens:  (4, 8)\n",
      "Neste nível são  32  imagens no total.\n"
     ]
    }
   ],
   "source": [
    "level_num = 11\n",
    "print(\"O nível \", level_num, \" possui imagens: \", tiles.level_tiles[level_num])\n",
    "print(\"Neste nível são \", tiles.level_tiles[level_num][0]*tiles.level_tiles[level_num][1], \" imagens no total.\")"
   ]
  },
  {
   "cell_type": "markdown",
   "metadata": {},
   "source": [
    "Salvar imagens separadas para a formação da imagem completa."
   ]
  },
  {
   "cell_type": "code",
   "execution_count": 31,
   "metadata": {},
   "outputs": [
    {
     "name": "stdout",
     "output_type": "stream",
     "text": [
      "Now saving tile with title:  images/saved_tiles/original_tiles/0_0\n",
      "Now saving tile with title:  images/saved_tiles/original_tiles/1_0\n",
      "Now saving tile with title:  images/saved_tiles/original_tiles/2_0\n",
      "Now saving tile with title:  images/saved_tiles/original_tiles/3_0\n",
      "Now saving tile with title:  images/saved_tiles/original_tiles/0_1\n",
      "Now saving tile with title:  images/saved_tiles/original_tiles/1_1\n",
      "Now saving tile with title:  images/saved_tiles/original_tiles/2_1\n",
      "Now saving tile with title:  images/saved_tiles/original_tiles/3_1\n",
      "Now saving tile with title:  images/saved_tiles/original_tiles/0_2\n",
      "Now saving tile with title:  images/saved_tiles/original_tiles/1_2\n",
      "Now saving tile with title:  images/saved_tiles/original_tiles/2_2\n",
      "Now saving tile with title:  images/saved_tiles/original_tiles/3_2\n",
      "Now saving tile with title:  images/saved_tiles/original_tiles/0_3\n",
      "Now saving tile with title:  images/saved_tiles/original_tiles/1_3\n",
      "Now saving tile with title:  images/saved_tiles/original_tiles/2_3\n",
      "Now saving tile with title:  images/saved_tiles/original_tiles/3_3\n",
      "Now saving tile with title:  images/saved_tiles/original_tiles/0_4\n",
      "Now saving tile with title:  images/saved_tiles/original_tiles/1_4\n",
      "Now saving tile with title:  images/saved_tiles/original_tiles/2_4\n",
      "Now saving tile with title:  images/saved_tiles/original_tiles/3_4\n",
      "Now saving tile with title:  images/saved_tiles/original_tiles/0_5\n",
      "Now saving tile with title:  images/saved_tiles/original_tiles/1_5\n",
      "Now saving tile with title:  images/saved_tiles/original_tiles/2_5\n",
      "Now saving tile with title:  images/saved_tiles/original_tiles/3_5\n",
      "Now saving tile with title:  images/saved_tiles/original_tiles/0_6\n",
      "Now saving tile with title:  images/saved_tiles/original_tiles/1_6\n",
      "Now saving tile with title:  images/saved_tiles/original_tiles/2_6\n",
      "Now saving tile with title:  images/saved_tiles/original_tiles/3_6\n",
      "Now saving tile with title:  images/saved_tiles/original_tiles/0_7\n",
      "Now saving tile with title:  images/saved_tiles/original_tiles/1_7\n",
      "Now saving tile with title:  images/saved_tiles/original_tiles/2_7\n",
      "Now saving tile with title:  images/saved_tiles/original_tiles/3_7\n"
     ]
    }
   ],
   "source": [
    "cols, rows = tiles.level_tiles[level_num]\n",
    "\n",
    "import os\n",
    "tile_dir = \"images/saved_tiles/original_tiles/\"\n",
    "for row in range(rows):\n",
    "    for col in range(cols):\n",
    "        tile_name = os.path.join(tile_dir, '%d_%d' % (col, row))\n",
    "        print(\"Now saving tile with title: \", tile_name)\n",
    "        temp_tile = tiles.get_tile(level_num, (col, row))\n",
    "        temp_tile_RGB = temp_tile.convert('RGB')\n",
    "        temp_tile_np = np.array(temp_tile_RGB)\n",
    "        plt.imsave(tile_name + \".png\", temp_tile_np)"
   ]
  }
 ],
 "metadata": {
  "kernelspec": {
   "display_name": "Python 3.7.0 64-bit",
   "language": "python",
   "name": "python3"
  },
  "language_info": {
   "codemirror_mode": {
    "name": "ipython",
    "version": 3
   },
   "file_extension": ".py",
   "mimetype": "text/x-python",
   "name": "python",
   "nbconvert_exporter": "python",
   "pygments_lexer": "ipython3",
   "version": "3.7.0"
  },
  "orig_nbformat": 4,
  "vscode": {
   "interpreter": {
    "hash": "5109d816b82be14675a6b11f8e0f0d2e80f029176ed3710d54e125caa8520dfd"
   }
  }
 },
 "nbformat": 4,
 "nbformat_minor": 2
}
