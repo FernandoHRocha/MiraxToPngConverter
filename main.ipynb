{
 "cells": [
  {
   "cell_type": "code",
   "execution_count": null,
   "metadata": {},
   "outputs": [],
   "source": [
    "from openslide import open_slide\n",
    "import openslide\n",
    "from PIL import Image\n",
    "import numpy as np\n",
    "from matplotlib import pyplot as plt"
   ]
  },
  {
   "cell_type": "markdown",
   "metadata": {},
   "source": [
    "Necessário conter pasta de arquivos adicionais."
   ]
  },
  {
   "cell_type": "code",
   "execution_count": null,
   "metadata": {},
   "outputs": [],
   "source": [
    "slide = open_slide(\"./PNE 1-3.mrxs\")\n",
    "slide_props = slide.properties\n",
    "print(slide_props)"
   ]
  },
  {
   "cell_type": "markdown",
   "metadata": {},
   "source": [
    "As propriedades da imagem são encontradas em properties."
   ]
  },
  {
   "cell_type": "code",
   "execution_count": null,
   "metadata": {},
   "outputs": [],
   "source": [
    "slide_props = slide.properties\n",
    "#print(slide_props)\n",
    "\n",
    "print(\"Vendor is:\", slide_props['openslide.vendor'])\n",
    "print(\"Pixel size of X in um is:\", slide_props['openslide.mpp-x'])\n",
    "print(\"Pixel size of Y in um is:\", slide_props['openslide.mpp-y'])"
   ]
  },
  {
   "cell_type": "markdown",
   "metadata": {},
   "source": [
    "Obtem um arquivo thumbnail da imagem com resolução máxima indicada."
   ]
  },
  {
   "cell_type": "code",
   "execution_count": null,
   "metadata": {},
   "outputs": [],
   "source": [
    "slide_thumb_600 = slide.get_thumbnail(size=(600,600))\n",
    "slide_thumb_600.show()"
   ]
  },
  {
   "cell_type": "markdown",
   "metadata": {},
   "source": [
    "Transforma a imagem em um gráfico matplot."
   ]
  },
  {
   "cell_type": "code",
   "execution_count": null,
   "metadata": {},
   "outputs": [],
   "source": [
    "slide_thumb_600_np = np.array(slide_thumb_600)\n",
    "plt.figure(figsize=(8,8))\n",
    "plt.imshow(slide_thumb_600_np)   "
   ]
  },
  {
   "cell_type": "markdown",
   "metadata": {},
   "source": [
    "Resoluções encontradas."
   ]
  },
  {
   "cell_type": "code",
   "execution_count": null,
   "metadata": {},
   "outputs": [],
   "source": [
    "dimensions = slide.level_dimensions\n",
    "print(\"Resoluções encontradas na imagen e suas reduções: \", dimensions)\n",
    "n_levels = len(dimensions)\n",
    "print(\"Niveis de redução na imagem: \", n_levels)\n",
    "factors = slide.level_downsamples\n",
    "print(\"Fatores de redução de escala: \", factors)"
   ]
  },
  {
   "cell_type": "markdown",
   "metadata": {},
   "source": [
    "Obtem a imagem reduzida em 6 vezes da nativa e coverte ela em uma imagem RGB."
   ]
  },
  {
   "cell_type": "code",
   "execution_count": null,
   "metadata": {},
   "outputs": [],
   "source": [
    "level6_dimension = dimensions[6]\n",
    "level6_img = slide.read_region((0,0), 6, level6_dimension)\n",
    "img6 = level6_img.convert('RGB')\n",
    "img6.show()\n",
    "#EXTRAIR"
   ]
  },
  {
   "cell_type": "code",
   "execution_count": null,
   "metadata": {},
   "outputs": [],
   "source": [
    "from openslide.deepzoom import DeepZoomGenerator\n",
    "tiles = DeepZoomGenerator(slide, tile_size=256, overlap=0, limit_bounds=False)\n",
    "print(\"Número de níveis que o slide pode ter com as configurações aplicadas acima: \", tiles.level_count)\n",
    "print(\"Quantas imagens cada níveis terá: \", tiles.level_dimensions)\n",
    "print(\"Número total de imagens geradas: \", tiles.tile_count)\n"
   ]
  },
  {
   "cell_type": "code",
   "execution_count": null,
   "metadata": {},
   "outputs": [],
   "source": [
    "level_num = 11\n",
    "print(\"O nível \", level_num, \" possui imagens: \", tiles.level_tiles[level_num])\n",
    "print(\"Neste nível são \", tiles.level_tiles[level_num][0]*tiles.level_tiles[level_num][1], \" imagens no total.\")"
   ]
  },
  {
   "cell_type": "markdown",
   "metadata": {},
   "source": [
    "Salvar imagens separadas para a formação da imagem completa."
   ]
  },
  {
   "cell_type": "code",
   "execution_count": null,
   "metadata": {},
   "outputs": [],
   "source": [
    "rows, cols = tiles.level_tiles[level_num]\n",
    "\n",
    "import os\n",
    "tile_dir = \"images/saved_tiles/original_tiles/\"\n",
    "for col in range(cols):\n",
    "    for row in range(rows):\n",
    "        tile_name = os.path.join(tile_dir, '%d_%d' % (col, row))\n",
    "        print(\"Now saving tile with title: \", tile_name)\n",
    "        temp_tile = tiles.get_tile(level_num, (row, col))\n",
    "        temp_tile_RGB = temp_tile.convert('RGB')\n",
    "        temp_tile_np = np.array(temp_tile_RGB)\n",
    "        plt.imsave(tile_name + \".png\", temp_tile_np)"
   ]
  },
  {
   "cell_type": "code",
   "execution_count": 5,
   "metadata": {},
   "outputs": [
    {
     "name": "stdout",
     "output_type": "stream",
     "text": [
      "'assets/images/l5_c0.png',\n",
      "'assets/images/l5_c1.png',\n",
      "'assets/images/l5_c2.png',\n",
      "'assets/images/l5_c3.png',\n",
      "'assets/images/l6_c0.png',\n",
      "'assets/images/l6_c1.png',\n",
      "'assets/images/l6_c2.png',\n",
      "'assets/images/l6_c3.png',\n",
      "'assets/images/l7_c0.png',\n",
      "'assets/images/l7_c1.png',\n",
      "'assets/images/l7_c2.png',\n",
      "'assets/images/l7_c3.png',\n",
      "'assets/images/l8_c0.png',\n",
      "'assets/images/l8_c1.png',\n",
      "'assets/images/l8_c2.png',\n",
      "'assets/images/l8_c3.png',\n",
      "'assets/images/l9_c0.png',\n",
      "'assets/images/l9_c1.png',\n",
      "'assets/images/l9_c2.png',\n",
      "'assets/images/l9_c3.png',\n",
      "'assets/images/l10_c0.png',\n",
      "'assets/images/l10_c1.png',\n",
      "'assets/images/l10_c2.png',\n",
      "'assets/images/l10_c3.png',\n",
      "'assets/images/l11_c0.png',\n",
      "'assets/images/l11_c1.png',\n",
      "'assets/images/l11_c2.png',\n",
      "'assets/images/l11_c3.png',\n",
      "'assets/images/l12_c0.png',\n",
      "'assets/images/l12_c1.png',\n",
      "'assets/images/l12_c2.png',\n",
      "'assets/images/l12_c3.png',\n"
     ]
    }
   ],
   "source": [
    "for row in range(8):\n",
    "    for col in range(4):\n",
    "        print(\"'assets/images/l\" + str(row+5) + '_c' + str(col) + \".png',\")"
   ]
  }
 ],
 "metadata": {
  "kernelspec": {
   "display_name": "Python 3.7.0 64-bit",
   "language": "python",
   "name": "python3"
  },
  "language_info": {
   "codemirror_mode": {
    "name": "ipython",
    "version": 3
   },
   "file_extension": ".py",
   "mimetype": "text/x-python",
   "name": "python",
   "nbconvert_exporter": "python",
   "pygments_lexer": "ipython3",
   "version": "3.7.0"
  },
  "orig_nbformat": 4,
  "vscode": {
   "interpreter": {
    "hash": "5109d816b82be14675a6b11f8e0f0d2e80f029176ed3710d54e125caa8520dfd"
   }
  }
 },
 "nbformat": 4,
 "nbformat_minor": 2
}
